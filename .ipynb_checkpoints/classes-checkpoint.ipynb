{
 "cells": [
  {
   "cell_type": "code",
   "execution_count": 10,
   "metadata": {},
   "outputs": [
    {
     "data": {
      "text/plain": [
       "<__main__.Card at 0x156808cdfd0>"
      ]
     },
     "execution_count": 10,
     "metadata": {},
     "output_type": "execute_result"
    }
   ],
   "source": [
    "# define classes\n",
    "\n",
    "class Game: \n",
    "    def __init__(self, player1, player2):\n",
    "        self.player_1=player1\n",
    "        self.player_2=player2\n",
    "        \n",
    "    def check_state_effects():\n",
    "        return()\n",
    "    \n",
    "class Player:\n",
    "    def __init__(self, deck):\n",
    "        self.life=20\n",
    "        self.library=deck\n",
    "    \n",
    "class Card:\n",
    "    def __init__(self,name,cost):\n",
    "        self.name=name\n",
    "        self.cost=cost\n",
    "        \n",
    "# Card types - subclass of Card\n",
    "\n",
    "class Instant(Card):\n",
    "    def __init__(self):\n",
    "        Card.__init__(self,cost,owner)\n",
    "        \n",
    "class Sorcery(Card):\n",
    "    def __init__(self):\n",
    "        Card.__init__(cost,card_type,owner)\n",
    "        \n",
    "class Creature(Card):\n",
    "    def __init__(self):\n",
    "        Card.__init__(cost,card_type,owner)\n",
    "        \n",
    "class Land(Card):\n",
    "    def __init__(self):\n",
    "        Card.__init__(cost,card_type,owner)\n",
    "        \n",
    "class Enchantment(Card):\n",
    "    def __init__(self):\n",
    "        Card.__init__(cost,card_type,owner)\n",
    "        \n",
    "class Artifact(Card):\n",
    "    def __init__(self):\n",
    "        Card.__init__(cost,card_type,owner)\n",
    "        \n",
    "class Planeswalker(Card):\n",
    "    def __init__(self):\n",
    "        Card.__init__(cost,card_type,owner)\n",
    "\n"
   ]
  },
  {
   "cell_type": "code",
   "execution_count": 19,
   "metadata": {},
   "outputs": [
    {
     "ename": "NameError",
     "evalue": "name 'player_1' is not defined",
     "output_type": "error",
     "traceback": [
      "\u001b[1;31m---------------------------------------------------------------------------\u001b[0m",
      "\u001b[1;31mNameError\u001b[0m                                 Traceback (most recent call last)",
      "\u001b[1;32m<ipython-input-19-22f93725f468>\u001b[0m in \u001b[0;36m<module>\u001b[1;34m()\u001b[0m\n\u001b[1;32m----> 1\u001b[1;33m \u001b[0mdeck1\u001b[0m\u001b[1;33m=\u001b[0m \u001b[1;33m[\u001b[0m\u001b[0mCard\u001b[0m\u001b[1;33m(\u001b[0m\u001b[1;34m\"Grizzly Bears\"\u001b[0m\u001b[1;33m,\u001b[0m\u001b[1;33m{\u001b[0m\u001b[1;34m\"C\"\u001b[0m\u001b[1;33m:\u001b[0m\u001b[1;36m1\u001b[0m\u001b[1;33m,\u001b[0m \u001b[1;34m\"G\"\u001b[0m\u001b[1;33m:\u001b[0m\u001b[1;36m1\u001b[0m\u001b[1;33m}\u001b[0m\u001b[1;33m)\u001b[0m\u001b[1;33m,\u001b[0m\u001b[0mplayer_1\u001b[0m\u001b[1;33m]\u001b[0m\u001b[1;33m\u001b[0m\u001b[0m\n\u001b[0m\u001b[0;32m      2\u001b[0m \u001b[0mg\u001b[0m\u001b[1;33m=\u001b[0m\u001b[0mGame\u001b[0m\u001b[1;33m(\u001b[0m\u001b[1;36m1\u001b[0m\u001b[1;33m,\u001b[0m\u001b[1;36m2\u001b[0m\u001b[1;33m)\u001b[0m\u001b[1;33m\u001b[0m\u001b[0m\n\u001b[0;32m      3\u001b[0m \u001b[0mg\u001b[0m\u001b[1;33m.\u001b[0m\u001b[0mplayer_1\u001b[0m\u001b[1;33m.\u001b[0m\u001b[0mlibrary\u001b[0m\u001b[1;33m\u001b[0m\u001b[0m\n",
      "\u001b[1;31mNameError\u001b[0m: name 'player_1' is not defined"
     ]
    }
   ],
   "source": [
    "deck1= [Card(\"Grizzly Bears\",{\"C\":1, \"G\":1}),player_1]\n",
    "deck2= [Card(\"Grizzly Bears\",{\"C\":1, \"G\":1})]\n",
    "player1=Player(deck1)\n",
    "\n",
    "g=Game(player1,player2)"
   ]
  },
  {
   "cell_type": "code",
   "execution_count": null,
   "metadata": {},
   "outputs": [],
   "source": []
  }
 ],
 "metadata": {
  "kernelspec": {
   "display_name": "Python 3",
   "language": "python",
   "name": "python3"
  },
  "language_info": {
   "codemirror_mode": {
    "name": "ipython",
    "version": 3
   },
   "file_extension": ".py",
   "mimetype": "text/x-python",
   "name": "python",
   "nbconvert_exporter": "python",
   "pygments_lexer": "ipython3",
   "version": "3.6.5"
  }
 },
 "nbformat": 4,
 "nbformat_minor": 2
}
